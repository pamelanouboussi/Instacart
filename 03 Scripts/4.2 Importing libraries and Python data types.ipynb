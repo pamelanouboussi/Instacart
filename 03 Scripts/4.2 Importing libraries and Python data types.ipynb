{
 "cells": [
  {
   "cell_type": "markdown",
   "id": "190a1c16",
   "metadata": {},
   "source": [
    "# 01. Importing libraries"
   ]
  },
  {
   "cell_type": "code",
   "execution_count": 4,
   "id": "6256c8e4",
   "metadata": {},
   "outputs": [],
   "source": [
    "#Import libraries \n",
    "import pandas as pd\n",
    "import numpy as np\n",
    "import os"
   ]
  },
  {
   "cell_type": "markdown",
   "id": "e08e2932",
   "metadata": {},
   "source": [
    "Python data types"
   ]
  },
  {
   "cell_type": "code",
   "execution_count": 4,
   "id": "95178ac5",
   "metadata": {},
   "outputs": [
    {
     "data": {
      "text/plain": [
       "100"
      ]
     },
     "execution_count": 4,
     "metadata": {},
     "output_type": "execute_result"
    }
   ],
   "source": [
    "x=50\n",
    "y=30\n",
    "a=20\n",
    "y+x+a"
   ]
  },
  {
   "cell_type": "code",
   "execution_count": 2,
   "id": "0acf338b",
   "metadata": {},
   "outputs": [
    {
     "data": {
      "text/plain": [
       "100"
      ]
     },
     "execution_count": 2,
     "metadata": {},
     "output_type": "execute_result"
    }
   ],
   "source": [
    "b=150\n",
    "b-x"
   ]
  },
  {
   "cell_type": "code",
   "execution_count": 5,
   "id": "9b801a20",
   "metadata": {},
   "outputs": [
    {
     "data": {
      "text/plain": [
       "100"
      ]
     },
     "execution_count": 5,
     "metadata": {},
     "output_type": "execute_result"
    }
   ],
   "source": [
    "b-(y+a)"
   ]
  },
  {
   "cell_type": "code",
   "execution_count": 6,
   "id": "85828d71",
   "metadata": {},
   "outputs": [
    {
     "data": {
      "text/plain": [
       "1.4"
      ]
     },
     "execution_count": 6,
     "metadata": {},
     "output_type": "execute_result"
    }
   ],
   "source": [
    "xy=0.7\n",
    "ya=0.5\n",
    "xy/ya"
   ]
  },
  {
   "cell_type": "code",
   "execution_count": 10,
   "id": "2ad1cda3",
   "metadata": {},
   "outputs": [
    {
     "data": {
      "text/plain": [
       "'onehundred '"
      ]
     },
     "execution_count": 10,
     "metadata": {},
     "output_type": "execute_result"
    }
   ],
   "source": [
    "x='onehun'\n",
    "y='dred '\n",
    "x+y\n"
   ]
  },
  {
   "cell_type": "code",
   "execution_count": 14,
   "id": "0aa11903",
   "metadata": {},
   "outputs": [
    {
     "data": {
      "text/plain": [
       "'Your total is onehundred and fifty. Thank you Sir '"
      ]
     },
     "execution_count": 14,
     "metadata": {},
     "output_type": "execute_result"
    }
   ],
   "source": [
    "a='Your '\n",
    "b='total '\n",
    "c='is '\n",
    "d='and '\n",
    "e='fifty. '\n",
    "f='Thank you Sir '\n",
    "a+b+c+(x+y)+d+e+f\n"
   ]
  },
  {
   "cell_type": "markdown",
   "id": "bea34e95",
   "metadata": {},
   "source": [
    "Bonus Task"
   ]
  },
  {
   "cell_type": "code",
   "execution_count": 15,
   "id": "f807bcf3",
   "metadata": {},
   "outputs": [
    {
     "data": {
      "text/plain": [
       "'Thank you Sir Thank you Sir Thank you Sir Thank you Sir Thank you Sir Thank you Sir Thank you Sir Thank you Sir Thank you Sir Thank you Sir Thank you Sir Thank you Sir Thank you Sir Thank you Sir Thank you Sir Thank you Sir Thank you Sir Thank you Sir Thank you Sir Thank you Sir Thank you Sir Thank you Sir Thank you Sir Thank you Sir Thank you Sir Thank you Sir Thank you Sir Thank you Sir Thank you Sir Thank you Sir Thank you Sir Thank you Sir Thank you Sir Thank you Sir Thank you Sir Thank you Sir Thank you Sir Thank you Sir Thank you Sir Thank you Sir Thank you Sir Thank you Sir Thank you Sir Thank you Sir Thank you Sir Thank you Sir Thank you Sir Thank you Sir Thank you Sir Thank you Sir Thank you Sir Thank you Sir Thank you Sir Thank you Sir Thank you Sir Thank you Sir Thank you Sir Thank you Sir Thank you Sir Thank you Sir Thank you Sir Thank you Sir Thank you Sir Thank you Sir Thank you Sir Thank you Sir Thank you Sir Thank you Sir Thank you Sir Thank you Sir Thank you Sir Thank you Sir Thank you Sir Thank you Sir Thank you Sir Thank you Sir Thank you Sir Thank you Sir Thank you Sir Thank you Sir Thank you Sir Thank you Sir Thank you Sir Thank you Sir Thank you Sir Thank you Sir Thank you Sir Thank you Sir Thank you Sir Thank you Sir Thank you Sir Thank you Sir Thank you Sir Thank you Sir Thank you Sir Thank you Sir Thank you Sir Thank you Sir Thank you Sir Thank you Sir '"
      ]
     },
     "execution_count": 15,
     "metadata": {},
     "output_type": "execute_result"
    }
   ],
   "source": [
    "f*100"
   ]
  },
  {
   "cell_type": "code",
   "execution_count": null,
   "id": "50ac3199",
   "metadata": {},
   "outputs": [],
   "source": []
  }
 ],
 "metadata": {
  "kernelspec": {
   "display_name": "Python 3 (ipykernel)",
   "language": "python",
   "name": "python3"
  },
  "language_info": {
   "codemirror_mode": {
    "name": "ipython",
    "version": 3
   },
   "file_extension": ".py",
   "mimetype": "text/x-python",
   "name": "python",
   "nbconvert_exporter": "python",
   "pygments_lexer": "ipython3",
   "version": "3.9.12"
  }
 },
 "nbformat": 4,
 "nbformat_minor": 5
}
